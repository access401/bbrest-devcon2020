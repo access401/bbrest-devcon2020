{
 "cells": [
  {
   "cell_type": "code",
   "execution_count": 1,
   "metadata": {},
   "outputs": [
    {
     "data": {
      "text/plain": [
       "'in 59 minutes'"
      ]
     },
     "execution_count": 1,
     "metadata": {},
     "output_type": "execute_result"
    }
   ],
   "source": [
    "from bbrest import BbRest\n",
    "key = \"4987d7ee-80ab-432c-afc5-51dddd7c31bc\"\n",
    "secret = \"kLCvx9NnNk0sIUBSUUm0muL19XmtjC8L\"\n",
    "learnfqdn = \"kauffman380011.ddns.net\"\n",
    "bb = BbRest(key, secret, f\"https://{learnfqdn}\")  # Does a lot! Get the system version, pull in the functions from dev portal, 2-legged authentication w/ caching of token.\n",
    "bb.expiration()"
   ]
  },
  {
   "cell_type": "code",
   "execution_count": 3,
   "metadata": {},
   "outputs": [
    {
     "data": {
      "text/plain": [
       "{'learn': {'major': 3800, 'minor': 11, 'patch': 0, 'build': 'rel.23+7619f1a'}}"
      ]
     },
     "execution_count": 3,
     "metadata": {},
     "output_type": "execute_result"
    }
   ],
   "source": [
    "import requests\n",
    "learnfqdn = \"kauffman380011.ddns.net\"\n",
    "aurl = f\"https://{learnfqdn}/learn/api/public/v1/system/version\"\n",
    "r = requests.get(url = aurl)\n",
    "r.json()"
   ]
  },
  {
   "cell_type": "code",
   "execution_count": null,
   "metadata": {},
   "outputs": [],
   "source": []
  }
 ],
 "metadata": {
  "kernelspec": {
   "display_name": "Python 3",
   "language": "python",
   "name": "python3"
  },
  "language_info": {
   "codemirror_mode": {
    "name": "ipython",
    "version": 3
   },
   "file_extension": ".py",
   "mimetype": "text/x-python",
   "name": "python",
   "nbconvert_exporter": "python",
   "pygments_lexer": "ipython3",
   "version": "3.7.4"
  }
 },
 "nbformat": 4,
 "nbformat_minor": 4
}
