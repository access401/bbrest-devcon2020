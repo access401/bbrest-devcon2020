{
 "cells": [
  {
   "cell_type": "code",
   "execution_count": 2,
   "metadata": {},
   "outputs": [
    {
     "data": {
      "text/plain": [
       "'in 37 minutes'"
      ]
     },
     "execution_count": 2,
     "metadata": {},
     "output_type": "execute_result"
    }
   ],
   "source": [
    "from bbrest import BbRest\n",
    "key = \"4987d7eYOUR-KEY-HERE-NOT-MINEd7c31bc\"\n",
    "secret = \"kLCYOUR-SECRET-HERE-NOT-MINEjC8L\"\n",
    "learnfqdn = \"kauffman380011.ddns.net\"\n",
    "bb = BbRest(key, secret, f\"https://{learnfqdn}\")  # Does a lot! Get the system version, pull in the functions from dev portal, 2-legged authentication w/ caching of token.\n",
    "bb.expiration()"
   ]
  },
  {
   "cell_type": "code",
   "execution_count": null,
   "metadata": {},
   "outputs": [],
   "source": []
  }
 ],
 "metadata": {
  "kernelspec": {
   "display_name": "Python 3",
   "language": "python",
   "name": "python3"
  },
  "language_info": {
   "codemirror_mode": {
    "name": "ipython",
    "version": 3
   },
   "file_extension": ".py",
   "mimetype": "text/x-python",
   "name": "python",
   "nbconvert_exporter": "python",
   "pygments_lexer": "ipython3",
   "version": "3.7.4"
  }
 },
 "nbformat": 4,
 "nbformat_minor": 4
}
